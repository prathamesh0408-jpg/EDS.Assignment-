{
  "nbformat": 4,
  "nbformat_minor": 0,
  "metadata": {
    "colab": {
      "provenance": [],
      "mount_file_id": "1dQJn-xOv86tlamH7DnP_ZVzaz9Vw0V9T",
      "authorship_tag": "ABX9TyNnb/Lm786n4hqKe9uX9cg1",
      "include_colab_link": true
    },
    "kernelspec": {
      "name": "python3",
      "display_name": "Python 3"
    },
    "language_info": {
      "name": "python"
    }
  },
  "cells": [
    {
      "cell_type": "markdown",
      "metadata": {
        "id": "view-in-github",
        "colab_type": "text"
      },
      "source": [
        "<a href=\"https://colab.research.google.com/github/prathamesh0408-jpg/EDS.Assignment-/blob/main/307_prathamesh_dange.ipynb\" target=\"_parent\"><img src=\"https://colab.research.google.com/assets/colab-badge.svg\" alt=\"Open In Colab\"/></a>"
      ]
    },
    {
      "cell_type": "code",
      "execution_count": null,
      "metadata": {
        "colab": {
          "base_uri": "https://localhost:8080/"
        },
        "id": "NtrtCpdg2M_L",
        "outputId": "a22c589f-7c2f-48b0-ffd2-bd4cc9866fce"
      },
      "outputs": [
        {
          "output_type": "stream",
          "name": "stdout",
          "text": [
            "a as int: 25\n",
            "b as long 548468\n",
            "d as float 14.25\n",
            "d as complex 3.14j\n",
            "welcome to python\n",
            "[15, 25.6, 'python']\n",
            "(21, 'python', 21.45)\n",
            "{'Aradhana': 21, 'Prathana': 100, 'Rugved': 23}\n"
          ]
        }
      ],
      "source": [
        " a = 25\n",
        "print(\"a as int:\",a)\n",
        "b = 548468\n",
        "print(\"b as long\",b)\n",
        "c = 14.25\n",
        "print(\"d as float\",c)\n",
        "d = 3.14j\n",
        "print(\"d as complex\",d)\n",
        "\n",
        "str1 = \"welcome to python\"\n",
        "print(str1)\n",
        "\n",
        "\n",
        "\n",
        "\n",
        "l1 = [15,25.6,\"python\"]\n",
        "print(l1)\n",
        "\n",
        "\n",
        "t1 = (21,\"python\",21.45)\n",
        "print(t1)\n",
        "\n",
        "\n",
        "\n",
        "d1 = {\"Aradhana\":21, \"Prathana\": 100, \"Rugved\": 23}\n",
        "print(d1)"
      ]
    },
    {
      "cell_type": "code",
      "source": [],
      "metadata": {
        "id": "M_GV9_E8ugPs"
      },
      "execution_count": null,
      "outputs": []
    },
    {
      "cell_type": "code",
      "source": [
        "from google.colab import drive\n",
        "drive.mount('/content/drive')"
      ],
      "metadata": {
        "id": "ifXcvRo3ywdU"
      },
      "execution_count": null,
      "outputs": []
    },
    {
      "cell_type": "code",
      "source": [
        "import pandas as pd\n",
        "df = pd.read_excel(r'/content/drive/MyDrive/employee.xlsx')\n",
        "print(df)\n",
        "df1 = pd.read_excel(r'/content/drive/MyDrive/salary.xlsx')\n",
        "print(df1)"
      ],
      "metadata": {
        "colab": {
          "base_uri": "https://localhost:8080/"
        },
        "id": "5VpqufUWZcC9",
        "outputId": "e809ec5a-1191-4d94-a15d-80867280f149"
      },
      "execution_count": null,
      "outputs": [
        {
          "output_type": "stream",
          "name": "stdout",
          "text": [
            "    Sr no.  Employee ID          Employee Name Date of birth  Age\n",
            "0        1         1001             Baki Hanma    1999-05-11   24\n",
            "1        2         1002           Yujiro Hanma    2004-02-29   18\n",
            "2        3         1003        Monkey D. Luffy    1976-05-12   47\n",
            "3        4         1004         Monkey D. Garp    1983-07-15   40\n",
            "4        5         1005          Trafalgar Law    1999-10-26   24\n",
            "5        6         1006             Alva Morte    2002-09-21   21\n",
            "6        7         1007       Miyamoto Musashi    1998-07-16   25\n",
            "7        8         1008         Shinmen Takezo    1989-07-18   34\n",
            "8        9         1009  Christopher Fernandez    2000-12-31   23\n",
            "9       10         1010            Virat Kohli    1994-06-08   29\n",
            "10      11         1011           Rohit Sharma    1968-07-03   55\n",
            "11      12         1012              John Wick    2004-02-20   18\n",
            "12      13         1013      Robert Downey Jr.    2004-06-30   18\n",
            "13      14         1014        Christ McCarthy    1998-11-26   25\n",
            "14      15         1015           Jesus Christ    1974-08-15   49\n",
            "15      16         1016             Doflamingo    1997-06-26   26\n",
            "16      17         1017            Bruce Wayne    1996-07-10   27\n",
            "17      18         1018            Andrew Tate    1968-08-11   55\n",
            "18      19         1019          Elon The Musk    1993-10-09   30\n",
            "19      20         1020             Robin Hood    1997-07-07   26\n",
            "    Sr no.  Employee ID          Employee Name   Salary\n",
            "0        1         1001             Baki Hanma   400000\n",
            "1        2         1002           Yujiro Hanma   500000\n",
            "2        3         1003        Monkey D. Luffy   600000\n",
            "3        4         1004         Monkey D. Garp   700000\n",
            "4        5         1005          Trafalgar Law   800000\n",
            "5        6         1006             Alva Morte   900000\n",
            "6        7         1007       Miyamoto Musashi  1000000\n",
            "7        8         1008         Shinmen Takezo  1100000\n",
            "8        9         1009  Christopher Fernandez  1200000\n",
            "9       10         1010            Virat Kohli  1300000\n",
            "10      11         1011           Rohit Sharma  1400000\n",
            "11      12         1012              John Wick  1500000\n",
            "12      13         1013      Robert Downey Jr.  1600000\n",
            "13      14         1014        Christ McCarthy  1700000\n",
            "14      15         1015           Jesus Christ  1800000\n",
            "15      16         1016             Doflamingo  1900000\n",
            "16      17         1017            Bruce Wayne  2000000\n",
            "17      18         1018            Andrew Tate  2100000\n",
            "18      19         1019          Elon The Musk  2200000\n",
            "19      20         1020             Robin Hood  2300000\n"
          ]
        }
      ]
    },
    {
      "cell_type": "code",
      "source": [
        "display(df,df1)"
      ],
      "metadata": {
        "colab": {
          "base_uri": "https://localhost:8080/",
          "height": 1000
        },
        "id": "If5yQBpVdaDF",
        "outputId": "4b0542f5-617a-44ab-8f83-6ebde2b78fae"
      },
      "execution_count": null,
      "outputs": [
        {
          "output_type": "display_data",
          "data": {
            "text/plain": [
              "    Sr no.  Employee ID          Employee Name Date of birth  Age\n",
              "0        1         1001             Baki Hanma    1999-05-11   24\n",
              "1        2         1002           Yujiro Hanma    2004-02-29   18\n",
              "2        3         1003        Monkey D. Luffy    1976-05-12   47\n",
              "3        4         1004         Monkey D. Garp    1983-07-15   40\n",
              "4        5         1005          Trafalgar Law    1999-10-26   24\n",
              "5        6         1006             Alva Morte    2002-09-21   21\n",
              "6        7         1007       Miyamoto Musashi    1998-07-16   25\n",
              "7        8         1008         Shinmen Takezo    1989-07-18   34\n",
              "8        9         1009  Christopher Fernandez    2000-12-31   23\n",
              "9       10         1010            Virat Kohli    1994-06-08   29\n",
              "10      11         1011           Rohit Sharma    1968-07-03   55\n",
              "11      12         1012              John Wick    2004-02-20   18\n",
              "12      13         1013      Robert Downey Jr.    2004-06-30   18\n",
              "13      14         1014        Christ McCarthy    1998-11-26   25\n",
              "14      15         1015           Jesus Christ    1974-08-15   49\n",
              "15      16         1016             Doflamingo    1997-06-26   26\n",
              "16      17         1017            Bruce Wayne    1996-07-10   27\n",
              "17      18         1018            Andrew Tate    1968-08-11   55\n",
              "18      19         1019          Elon The Musk    1993-10-09   30\n",
              "19      20         1020             Robin Hood    1997-07-07   26"
            ],
            "text/html": [
              "\n",
              "  <div id=\"df-a5d73546-0ca8-48f4-b62e-892bf5ae1774\">\n",
              "    <div class=\"colab-df-container\">\n",
              "      <div>\n",
              "<style scoped>\n",
              "    .dataframe tbody tr th:only-of-type {\n",
              "        vertical-align: middle;\n",
              "    }\n",
              "\n",
              "    .dataframe tbody tr th {\n",
              "        vertical-align: top;\n",
              "    }\n",
              "\n",
              "    .dataframe thead th {\n",
              "        text-align: right;\n",
              "    }\n",
              "</style>\n",
              "<table border=\"1\" class=\"dataframe\">\n",
              "  <thead>\n",
              "    <tr style=\"text-align: right;\">\n",
              "      <th></th>\n",
              "      <th>Sr no.</th>\n",
              "      <th>Employee ID</th>\n",
              "      <th>Employee Name</th>\n",
              "      <th>Date of birth</th>\n",
              "      <th>Age</th>\n",
              "    </tr>\n",
              "  </thead>\n",
              "  <tbody>\n",
              "    <tr>\n",
              "      <th>0</th>\n",
              "      <td>1</td>\n",
              "      <td>1001</td>\n",
              "      <td>Baki Hanma</td>\n",
              "      <td>1999-05-11</td>\n",
              "      <td>24</td>\n",
              "    </tr>\n",
              "    <tr>\n",
              "      <th>1</th>\n",
              "      <td>2</td>\n",
              "      <td>1002</td>\n",
              "      <td>Yujiro Hanma</td>\n",
              "      <td>2004-02-29</td>\n",
              "      <td>18</td>\n",
              "    </tr>\n",
              "    <tr>\n",
              "      <th>2</th>\n",
              "      <td>3</td>\n",
              "      <td>1003</td>\n",
              "      <td>Monkey D. Luffy</td>\n",
              "      <td>1976-05-12</td>\n",
              "      <td>47</td>\n",
              "    </tr>\n",
              "    <tr>\n",
              "      <th>3</th>\n",
              "      <td>4</td>\n",
              "      <td>1004</td>\n",
              "      <td>Monkey D. Garp</td>\n",
              "      <td>1983-07-15</td>\n",
              "      <td>40</td>\n",
              "    </tr>\n",
              "    <tr>\n",
              "      <th>4</th>\n",
              "      <td>5</td>\n",
              "      <td>1005</td>\n",
              "      <td>Trafalgar Law</td>\n",
              "      <td>1999-10-26</td>\n",
              "      <td>24</td>\n",
              "    </tr>\n",
              "    <tr>\n",
              "      <th>5</th>\n",
              "      <td>6</td>\n",
              "      <td>1006</td>\n",
              "      <td>Alva Morte</td>\n",
              "      <td>2002-09-21</td>\n",
              "      <td>21</td>\n",
              "    </tr>\n",
              "    <tr>\n",
              "      <th>6</th>\n",
              "      <td>7</td>\n",
              "      <td>1007</td>\n",
              "      <td>Miyamoto Musashi</td>\n",
              "      <td>1998-07-16</td>\n",
              "      <td>25</td>\n",
              "    </tr>\n",
              "    <tr>\n",
              "      <th>7</th>\n",
              "      <td>8</td>\n",
              "      <td>1008</td>\n",
              "      <td>Shinmen Takezo</td>\n",
              "      <td>1989-07-18</td>\n",
              "      <td>34</td>\n",
              "    </tr>\n",
              "    <tr>\n",
              "      <th>8</th>\n",
              "      <td>9</td>\n",
              "      <td>1009</td>\n",
              "      <td>Christopher Fernandez</td>\n",
              "      <td>2000-12-31</td>\n",
              "      <td>23</td>\n",
              "    </tr>\n",
              "    <tr>\n",
              "      <th>9</th>\n",
              "      <td>10</td>\n",
              "      <td>1010</td>\n",
              "      <td>Virat Kohli</td>\n",
              "      <td>1994-06-08</td>\n",
              "      <td>29</td>\n",
              "    </tr>\n",
              "    <tr>\n",
              "      <th>10</th>\n",
              "      <td>11</td>\n",
              "      <td>1011</td>\n",
              "      <td>Rohit Sharma</td>\n",
              "      <td>1968-07-03</td>\n",
              "      <td>55</td>\n",
              "    </tr>\n",
              "    <tr>\n",
              "      <th>11</th>\n",
              "      <td>12</td>\n",
              "      <td>1012</td>\n",
              "      <td>John Wick</td>\n",
              "      <td>2004-02-20</td>\n",
              "      <td>18</td>\n",
              "    </tr>\n",
              "    <tr>\n",
              "      <th>12</th>\n",
              "      <td>13</td>\n",
              "      <td>1013</td>\n",
              "      <td>Robert Downey Jr.</td>\n",
              "      <td>2004-06-30</td>\n",
              "      <td>18</td>\n",
              "    </tr>\n",
              "    <tr>\n",
              "      <th>13</th>\n",
              "      <td>14</td>\n",
              "      <td>1014</td>\n",
              "      <td>Christ McCarthy</td>\n",
              "      <td>1998-11-26</td>\n",
              "      <td>25</td>\n",
              "    </tr>\n",
              "    <tr>\n",
              "      <th>14</th>\n",
              "      <td>15</td>\n",
              "      <td>1015</td>\n",
              "      <td>Jesus Christ</td>\n",
              "      <td>1974-08-15</td>\n",
              "      <td>49</td>\n",
              "    </tr>\n",
              "    <tr>\n",
              "      <th>15</th>\n",
              "      <td>16</td>\n",
              "      <td>1016</td>\n",
              "      <td>Doflamingo</td>\n",
              "      <td>1997-06-26</td>\n",
              "      <td>26</td>\n",
              "    </tr>\n",
              "    <tr>\n",
              "      <th>16</th>\n",
              "      <td>17</td>\n",
              "      <td>1017</td>\n",
              "      <td>Bruce Wayne</td>\n",
              "      <td>1996-07-10</td>\n",
              "      <td>27</td>\n",
              "    </tr>\n",
              "    <tr>\n",
              "      <th>17</th>\n",
              "      <td>18</td>\n",
              "      <td>1018</td>\n",
              "      <td>Andrew Tate</td>\n",
              "      <td>1968-08-11</td>\n",
              "      <td>55</td>\n",
              "    </tr>\n",
              "    <tr>\n",
              "      <th>18</th>\n",
              "      <td>19</td>\n",
              "      <td>1019</td>\n",
              "      <td>Elon The Musk</td>\n",
              "      <td>1993-10-09</td>\n",
              "      <td>30</td>\n",
              "    </tr>\n",
              "    <tr>\n",
              "      <th>19</th>\n",
              "      <td>20</td>\n",
              "      <td>1020</td>\n",
              "      <td>Robin Hood</td>\n",
              "      <td>1997-07-07</td>\n",
              "      <td>26</td>\n",
              "    </tr>\n",
              "  </tbody>\n",
              "</table>\n",
              "</div>\n",
              "      <button class=\"colab-df-convert\" onclick=\"convertToInteractive('df-a5d73546-0ca8-48f4-b62e-892bf5ae1774')\"\n",
              "              title=\"Convert this dataframe to an interactive table.\"\n",
              "              style=\"display:none;\">\n",
              "        \n",
              "  <svg xmlns=\"http://www.w3.org/2000/svg\" height=\"24px\"viewBox=\"0 0 24 24\"\n",
              "       width=\"24px\">\n",
              "    <path d=\"M0 0h24v24H0V0z\" fill=\"none\"/>\n",
              "    <path d=\"M18.56 5.44l.94 2.06.94-2.06 2.06-.94-2.06-.94-.94-2.06-.94 2.06-2.06.94zm-11 1L8.5 8.5l.94-2.06 2.06-.94-2.06-.94L8.5 2.5l-.94 2.06-2.06.94zm10 10l.94 2.06.94-2.06 2.06-.94-2.06-.94-.94-2.06-.94 2.06-2.06.94z\"/><path d=\"M17.41 7.96l-1.37-1.37c-.4-.4-.92-.59-1.43-.59-.52 0-1.04.2-1.43.59L10.3 9.45l-7.72 7.72c-.78.78-.78 2.05 0 2.83L4 21.41c.39.39.9.59 1.41.59.51 0 1.02-.2 1.41-.59l7.78-7.78 2.81-2.81c.8-.78.8-2.07 0-2.86zM5.41 20L4 18.59l7.72-7.72 1.47 1.35L5.41 20z\"/>\n",
              "  </svg>\n",
              "      </button>\n",
              "      \n",
              "  <style>\n",
              "    .colab-df-container {\n",
              "      display:flex;\n",
              "      flex-wrap:wrap;\n",
              "      gap: 12px;\n",
              "    }\n",
              "\n",
              "    .colab-df-convert {\n",
              "      background-color: #E8F0FE;\n",
              "      border: none;\n",
              "      border-radius: 50%;\n",
              "      cursor: pointer;\n",
              "      display: none;\n",
              "      fill: #1967D2;\n",
              "      height: 32px;\n",
              "      padding: 0 0 0 0;\n",
              "      width: 32px;\n",
              "    }\n",
              "\n",
              "    .colab-df-convert:hover {\n",
              "      background-color: #E2EBFA;\n",
              "      box-shadow: 0px 1px 2px rgba(60, 64, 67, 0.3), 0px 1px 3px 1px rgba(60, 64, 67, 0.15);\n",
              "      fill: #174EA6;\n",
              "    }\n",
              "\n",
              "    [theme=dark] .colab-df-convert {\n",
              "      background-color: #3B4455;\n",
              "      fill: #D2E3FC;\n",
              "    }\n",
              "\n",
              "    [theme=dark] .colab-df-convert:hover {\n",
              "      background-color: #434B5C;\n",
              "      box-shadow: 0px 1px 3px 1px rgba(0, 0, 0, 0.15);\n",
              "      filter: drop-shadow(0px 1px 2px rgba(0, 0, 0, 0.3));\n",
              "      fill: #FFFFFF;\n",
              "    }\n",
              "  </style>\n",
              "\n",
              "      <script>\n",
              "        const buttonEl =\n",
              "          document.querySelector('#df-a5d73546-0ca8-48f4-b62e-892bf5ae1774 button.colab-df-convert');\n",
              "        buttonEl.style.display =\n",
              "          google.colab.kernel.accessAllowed ? 'block' : 'none';\n",
              "\n",
              "        async function convertToInteractive(key) {\n",
              "          const element = document.querySelector('#df-a5d73546-0ca8-48f4-b62e-892bf5ae1774');\n",
              "          const dataTable =\n",
              "            await google.colab.kernel.invokeFunction('convertToInteractive',\n",
              "                                                     [key], {});\n",
              "          if (!dataTable) return;\n",
              "\n",
              "          const docLinkHtml = 'Like what you see? Visit the ' +\n",
              "            '<a target=\"_blank\" href=https://colab.research.google.com/notebooks/data_table.ipynb>data table notebook</a>'\n",
              "            + ' to learn more about interactive tables.';\n",
              "          element.innerHTML = '';\n",
              "          dataTable['output_type'] = 'display_data';\n",
              "          await google.colab.output.renderOutput(dataTable, element);\n",
              "          const docLink = document.createElement('div');\n",
              "          docLink.innerHTML = docLinkHtml;\n",
              "          element.appendChild(docLink);\n",
              "        }\n",
              "      </script>\n",
              "    </div>\n",
              "  </div>\n",
              "  "
            ]
          },
          "metadata": {}
        },
        {
          "output_type": "display_data",
          "data": {
            "text/plain": [
              "    Sr no.  Employee ID          Employee Name   Salary\n",
              "0        1         1001             Baki Hanma   400000\n",
              "1        2         1002           Yujiro Hanma   500000\n",
              "2        3         1003        Monkey D. Luffy   600000\n",
              "3        4         1004         Monkey D. Garp   700000\n",
              "4        5         1005          Trafalgar Law   800000\n",
              "5        6         1006             Alva Morte   900000\n",
              "6        7         1007       Miyamoto Musashi  1000000\n",
              "7        8         1008         Shinmen Takezo  1100000\n",
              "8        9         1009  Christopher Fernandez  1200000\n",
              "9       10         1010            Virat Kohli  1300000\n",
              "10      11         1011           Rohit Sharma  1400000\n",
              "11      12         1012              John Wick  1500000\n",
              "12      13         1013      Robert Downey Jr.  1600000\n",
              "13      14         1014        Christ McCarthy  1700000\n",
              "14      15         1015           Jesus Christ  1800000\n",
              "15      16         1016             Doflamingo  1900000\n",
              "16      17         1017            Bruce Wayne  2000000\n",
              "17      18         1018            Andrew Tate  2100000\n",
              "18      19         1019          Elon The Musk  2200000\n",
              "19      20         1020             Robin Hood  2300000"
            ],
            "text/html": [
              "\n",
              "  <div id=\"df-20852c45-4201-41ca-965e-0a110c2c9d5b\">\n",
              "    <div class=\"colab-df-container\">\n",
              "      <div>\n",
              "<style scoped>\n",
              "    .dataframe tbody tr th:only-of-type {\n",
              "        vertical-align: middle;\n",
              "    }\n",
              "\n",
              "    .dataframe tbody tr th {\n",
              "        vertical-align: top;\n",
              "    }\n",
              "\n",
              "    .dataframe thead th {\n",
              "        text-align: right;\n",
              "    }\n",
              "</style>\n",
              "<table border=\"1\" class=\"dataframe\">\n",
              "  <thead>\n",
              "    <tr style=\"text-align: right;\">\n",
              "      <th></th>\n",
              "      <th>Sr no.</th>\n",
              "      <th>Employee ID</th>\n",
              "      <th>Employee Name</th>\n",
              "      <th>Salary</th>\n",
              "    </tr>\n",
              "  </thead>\n",
              "  <tbody>\n",
              "    <tr>\n",
              "      <th>0</th>\n",
              "      <td>1</td>\n",
              "      <td>1001</td>\n",
              "      <td>Baki Hanma</td>\n",
              "      <td>400000</td>\n",
              "    </tr>\n",
              "    <tr>\n",
              "      <th>1</th>\n",
              "      <td>2</td>\n",
              "      <td>1002</td>\n",
              "      <td>Yujiro Hanma</td>\n",
              "      <td>500000</td>\n",
              "    </tr>\n",
              "    <tr>\n",
              "      <th>2</th>\n",
              "      <td>3</td>\n",
              "      <td>1003</td>\n",
              "      <td>Monkey D. Luffy</td>\n",
              "      <td>600000</td>\n",
              "    </tr>\n",
              "    <tr>\n",
              "      <th>3</th>\n",
              "      <td>4</td>\n",
              "      <td>1004</td>\n",
              "      <td>Monkey D. Garp</td>\n",
              "      <td>700000</td>\n",
              "    </tr>\n",
              "    <tr>\n",
              "      <th>4</th>\n",
              "      <td>5</td>\n",
              "      <td>1005</td>\n",
              "      <td>Trafalgar Law</td>\n",
              "      <td>800000</td>\n",
              "    </tr>\n",
              "    <tr>\n",
              "      <th>5</th>\n",
              "      <td>6</td>\n",
              "      <td>1006</td>\n",
              "      <td>Alva Morte</td>\n",
              "      <td>900000</td>\n",
              "    </tr>\n",
              "    <tr>\n",
              "      <th>6</th>\n",
              "      <td>7</td>\n",
              "      <td>1007</td>\n",
              "      <td>Miyamoto Musashi</td>\n",
              "      <td>1000000</td>\n",
              "    </tr>\n",
              "    <tr>\n",
              "      <th>7</th>\n",
              "      <td>8</td>\n",
              "      <td>1008</td>\n",
              "      <td>Shinmen Takezo</td>\n",
              "      <td>1100000</td>\n",
              "    </tr>\n",
              "    <tr>\n",
              "      <th>8</th>\n",
              "      <td>9</td>\n",
              "      <td>1009</td>\n",
              "      <td>Christopher Fernandez</td>\n",
              "      <td>1200000</td>\n",
              "    </tr>\n",
              "    <tr>\n",
              "      <th>9</th>\n",
              "      <td>10</td>\n",
              "      <td>1010</td>\n",
              "      <td>Virat Kohli</td>\n",
              "      <td>1300000</td>\n",
              "    </tr>\n",
              "    <tr>\n",
              "      <th>10</th>\n",
              "      <td>11</td>\n",
              "      <td>1011</td>\n",
              "      <td>Rohit Sharma</td>\n",
              "      <td>1400000</td>\n",
              "    </tr>\n",
              "    <tr>\n",
              "      <th>11</th>\n",
              "      <td>12</td>\n",
              "      <td>1012</td>\n",
              "      <td>John Wick</td>\n",
              "      <td>1500000</td>\n",
              "    </tr>\n",
              "    <tr>\n",
              "      <th>12</th>\n",
              "      <td>13</td>\n",
              "      <td>1013</td>\n",
              "      <td>Robert Downey Jr.</td>\n",
              "      <td>1600000</td>\n",
              "    </tr>\n",
              "    <tr>\n",
              "      <th>13</th>\n",
              "      <td>14</td>\n",
              "      <td>1014</td>\n",
              "      <td>Christ McCarthy</td>\n",
              "      <td>1700000</td>\n",
              "    </tr>\n",
              "    <tr>\n",
              "      <th>14</th>\n",
              "      <td>15</td>\n",
              "      <td>1015</td>\n",
              "      <td>Jesus Christ</td>\n",
              "      <td>1800000</td>\n",
              "    </tr>\n",
              "    <tr>\n",
              "      <th>15</th>\n",
              "      <td>16</td>\n",
              "      <td>1016</td>\n",
              "      <td>Doflamingo</td>\n",
              "      <td>1900000</td>\n",
              "    </tr>\n",
              "    <tr>\n",
              "      <th>16</th>\n",
              "      <td>17</td>\n",
              "      <td>1017</td>\n",
              "      <td>Bruce Wayne</td>\n",
              "      <td>2000000</td>\n",
              "    </tr>\n",
              "    <tr>\n",
              "      <th>17</th>\n",
              "      <td>18</td>\n",
              "      <td>1018</td>\n",
              "      <td>Andrew Tate</td>\n",
              "      <td>2100000</td>\n",
              "    </tr>\n",
              "    <tr>\n",
              "      <th>18</th>\n",
              "      <td>19</td>\n",
              "      <td>1019</td>\n",
              "      <td>Elon The Musk</td>\n",
              "      <td>2200000</td>\n",
              "    </tr>\n",
              "    <tr>\n",
              "      <th>19</th>\n",
              "      <td>20</td>\n",
              "      <td>1020</td>\n",
              "      <td>Robin Hood</td>\n",
              "      <td>2300000</td>\n",
              "    </tr>\n",
              "  </tbody>\n",
              "</table>\n",
              "</div>\n",
              "      <button class=\"colab-df-convert\" onclick=\"convertToInteractive('df-20852c45-4201-41ca-965e-0a110c2c9d5b')\"\n",
              "              title=\"Convert this dataframe to an interactive table.\"\n",
              "              style=\"display:none;\">\n",
              "        \n",
              "  <svg xmlns=\"http://www.w3.org/2000/svg\" height=\"24px\"viewBox=\"0 0 24 24\"\n",
              "       width=\"24px\">\n",
              "    <path d=\"M0 0h24v24H0V0z\" fill=\"none\"/>\n",
              "    <path d=\"M18.56 5.44l.94 2.06.94-2.06 2.06-.94-2.06-.94-.94-2.06-.94 2.06-2.06.94zm-11 1L8.5 8.5l.94-2.06 2.06-.94-2.06-.94L8.5 2.5l-.94 2.06-2.06.94zm10 10l.94 2.06.94-2.06 2.06-.94-2.06-.94-.94-2.06-.94 2.06-2.06.94z\"/><path d=\"M17.41 7.96l-1.37-1.37c-.4-.4-.92-.59-1.43-.59-.52 0-1.04.2-1.43.59L10.3 9.45l-7.72 7.72c-.78.78-.78 2.05 0 2.83L4 21.41c.39.39.9.59 1.41.59.51 0 1.02-.2 1.41-.59l7.78-7.78 2.81-2.81c.8-.78.8-2.07 0-2.86zM5.41 20L4 18.59l7.72-7.72 1.47 1.35L5.41 20z\"/>\n",
              "  </svg>\n",
              "      </button>\n",
              "      \n",
              "  <style>\n",
              "    .colab-df-container {\n",
              "      display:flex;\n",
              "      flex-wrap:wrap;\n",
              "      gap: 12px;\n",
              "    }\n",
              "\n",
              "    .colab-df-convert {\n",
              "      background-color: #E8F0FE;\n",
              "      border: none;\n",
              "      border-radius: 50%;\n",
              "      cursor: pointer;\n",
              "      display: none;\n",
              "      fill: #1967D2;\n",
              "      height: 32px;\n",
              "      padding: 0 0 0 0;\n",
              "      width: 32px;\n",
              "    }\n",
              "\n",
              "    .colab-df-convert:hover {\n",
              "      background-color: #E2EBFA;\n",
              "      box-shadow: 0px 1px 2px rgba(60, 64, 67, 0.3), 0px 1px 3px 1px rgba(60, 64, 67, 0.15);\n",
              "      fill: #174EA6;\n",
              "    }\n",
              "\n",
              "    [theme=dark] .colab-df-convert {\n",
              "      background-color: #3B4455;\n",
              "      fill: #D2E3FC;\n",
              "    }\n",
              "\n",
              "    [theme=dark] .colab-df-convert:hover {\n",
              "      background-color: #434B5C;\n",
              "      box-shadow: 0px 1px 3px 1px rgba(0, 0, 0, 0.15);\n",
              "      filter: drop-shadow(0px 1px 2px rgba(0, 0, 0, 0.3));\n",
              "      fill: #FFFFFF;\n",
              "    }\n",
              "  </style>\n",
              "\n",
              "      <script>\n",
              "        const buttonEl =\n",
              "          document.querySelector('#df-20852c45-4201-41ca-965e-0a110c2c9d5b button.colab-df-convert');\n",
              "        buttonEl.style.display =\n",
              "          google.colab.kernel.accessAllowed ? 'block' : 'none';\n",
              "\n",
              "        async function convertToInteractive(key) {\n",
              "          const element = document.querySelector('#df-20852c45-4201-41ca-965e-0a110c2c9d5b');\n",
              "          const dataTable =\n",
              "            await google.colab.kernel.invokeFunction('convertToInteractive',\n",
              "                                                     [key], {});\n",
              "          if (!dataTable) return;\n",
              "\n",
              "          const docLinkHtml = 'Like what you see? Visit the ' +\n",
              "            '<a target=\"_blank\" href=https://colab.research.google.com/notebooks/data_table.ipynb>data table notebook</a>'\n",
              "            + ' to learn more about interactive tables.';\n",
              "          element.innerHTML = '';\n",
              "          dataTable['output_type'] = 'display_data';\n",
              "          await google.colab.output.renderOutput(dataTable, element);\n",
              "          const docLink = document.createElement('div');\n",
              "          docLink.innerHTML = docLinkHtml;\n",
              "          element.appendChild(docLink);\n",
              "        }\n",
              "      </script>\n",
              "    </div>\n",
              "  </div>\n",
              "  "
            ]
          },
          "metadata": {}
        }
      ]
    },
    {
      "cell_type": "code",
      "source": [
        "def sal():\n",
        "  import pandas as pd\n",
        "  a = df1.sort_values(by=['Salary'], ascending=False)\n",
        "\n",
        "  a.nlargest(5, 'Salary', 'first')\n",
        "  print(a)\n",
        "sal()"
      ],
      "metadata": {
        "colab": {
          "base_uri": "https://localhost:8080/"
        },
        "id": "RLWb_ZVld91m",
        "outputId": "6d9ce75e-cf10-4127-f192-676be50c4aeb"
      },
      "execution_count": null,
      "outputs": [
        {
          "output_type": "stream",
          "name": "stdout",
          "text": [
            "    Sr no.  Employee ID          Employee Name   Salary\n",
            "19      20         1020             Robin Hood  2300000\n",
            "18      19         1019          Elon The Musk  2200000\n",
            "17      18         1018            Andrew Tate  2100000\n",
            "16      17         1017            Bruce Wayne  2000000\n",
            "15      16         1016             Doflamingo  1900000\n",
            "14      15         1015           Jesus Christ  1800000\n",
            "13      14         1014        Christ McCarthy  1700000\n",
            "12      13         1013      Robert Downey Jr.  1600000\n",
            "11      12         1012              John Wick  1500000\n",
            "10      11         1011           Rohit Sharma  1400000\n",
            "9       10         1010            Virat Kohli  1300000\n",
            "8        9         1009  Christopher Fernandez  1200000\n",
            "7        8         1008         Shinmen Takezo  1100000\n",
            "6        7         1007       Miyamoto Musashi  1000000\n",
            "5        6         1006             Alva Morte   900000\n",
            "4        5         1005          Trafalgar Law   800000\n",
            "3        4         1004         Monkey D. Garp   700000\n",
            "2        3         1003        Monkey D. Luffy   600000\n",
            "1        2         1002           Yujiro Hanma   500000\n",
            "0        1         1001             Baki Hanma   400000\n"
          ]
        }
      ]
    },
    {
      "cell_type": "code",
      "source": [
        "import pandas as pd\n",
        "df =pd.read_excel(r'/content/drive/MyDrive/employee.xlsx')\n",
        "print(df)\n",
        "df['Age'].mean()\n",
        "# df1 = pd.read_excel(r'/content/drive/MyDrive/salary.xlsx')\n",
        "# print(df1)"
      ],
      "metadata": {
        "id": "36JmaDnlAHzi",
        "colab": {
          "base_uri": "https://localhost:8080/"
        },
        "outputId": "2c2db8d6-66d5-4026-b435-39c62b663fe9"
      },
      "execution_count": null,
      "outputs": [
        {
          "output_type": "stream",
          "name": "stdout",
          "text": [
            "    Sr no.  Employee ID          Employee Name Date of birth  Age\n",
            "0        1         1001             Baki Hanma    1999-05-11   24\n",
            "1        2         1002           Yujiro Hanma    2004-02-29   18\n",
            "2        3         1003        Monkey D. Luffy    1976-05-12   47\n",
            "3        4         1004         Monkey D. Garp    1983-07-15   40\n",
            "4        5         1005          Trafalgar Law    1999-10-26   24\n",
            "5        6         1006             Alva Morte    2002-09-21   21\n",
            "6        7         1007       Miyamoto Musashi    1998-07-16   25\n",
            "7        8         1008         Shinmen Takezo    1989-07-18   34\n",
            "8        9         1009  Christopher Fernandez    2000-12-31   23\n",
            "9       10         1010            Virat Kohli    1994-06-08   29\n",
            "10      11         1011           Rohit Sharma    1968-07-03   55\n",
            "11      12         1012              John Wick    2004-02-20   18\n",
            "12      13         1013      Robert Downey Jr.    2004-06-30   18\n",
            "13      14         1014        Christ McCarthy    1998-11-26   25\n",
            "14      15         1015           Jesus Christ    1974-08-15   49\n",
            "15      16         1016             Doflamingo    1997-06-26   26\n",
            "16      17         1017            Bruce Wayne    1996-07-10   27\n",
            "17      18         1018            Andrew Tate    1968-08-11   55\n",
            "18      19         1019          Elon The Musk    1993-10-09   30\n",
            "19      20         1020             Robin Hood    1997-07-07   26\n"
          ]
        },
        {
          "output_type": "execute_result",
          "data": {
            "text/plain": [
              "30.7"
            ]
          },
          "metadata": {},
          "execution_count": 2
        }
      ]
    },
    {
      "cell_type": "code",
      "source": [
        "import pandas as pd\n",
        "df =pd.read_excel(r'/content/drive/MyDrive/employee.xlsx')\n",
        "print(df)\n",
        "\n",
        "df['Age'].mode()\n",
        "# df1 = pd.read_excel(r'/content/drive/MyDrive/salary.xlsx')\n",
        "# print(df1)"
      ],
      "metadata": {
        "colab": {
          "base_uri": "https://localhost:8080/"
        },
        "id": "Vpm5qe4FFD0d",
        "outputId": "cf9320d5-b355-4c46-bf54-1c863f4ab87e"
      },
      "execution_count": null,
      "outputs": [
        {
          "output_type": "stream",
          "name": "stdout",
          "text": [
            "    Sr no.  Employee ID          Employee Name Date of birth  Age\n",
            "0        1         1001             Baki Hanma    1999-05-11   24\n",
            "1        2         1002           Yujiro Hanma    2004-02-29   18\n",
            "2        3         1003        Monkey D. Luffy    1976-05-12   47\n",
            "3        4         1004         Monkey D. Garp    1983-07-15   40\n",
            "4        5         1005          Trafalgar Law    1999-10-26   24\n",
            "5        6         1006             Alva Morte    2002-09-21   21\n",
            "6        7         1007       Miyamoto Musashi    1998-07-16   25\n",
            "7        8         1008         Shinmen Takezo    1989-07-18   34\n",
            "8        9         1009  Christopher Fernandez    2000-12-31   23\n",
            "9       10         1010            Virat Kohli    1994-06-08   29\n",
            "10      11         1011           Rohit Sharma    1968-07-03   55\n",
            "11      12         1012              John Wick    2004-02-20   18\n",
            "12      13         1013      Robert Downey Jr.    2004-06-30   18\n",
            "13      14         1014        Christ McCarthy    1998-11-26   25\n",
            "14      15         1015           Jesus Christ    1974-08-15   49\n",
            "15      16         1016             Doflamingo    1997-06-26   26\n",
            "16      17         1017            Bruce Wayne    1996-07-10   27\n",
            "17      18         1018            Andrew Tate    1968-08-11   55\n",
            "18      19         1019          Elon The Musk    1993-10-09   30\n",
            "19      20         1020             Robin Hood    1997-07-07   26\n"
          ]
        },
        {
          "output_type": "execute_result",
          "data": {
            "text/plain": [
              "0    18\n",
              "Name: Age, dtype: int64"
            ]
          },
          "metadata": {},
          "execution_count": 3
        }
      ]
    },
    {
      "cell_type": "code",
      "source": [
        "import pandas as pd\n",
        "df =pd.read_excel(r'/content/drive/MyDrive/employee.xlsx')\n",
        "print(df)\n",
        "\n",
        "df['Age'].median()\n",
        "# df1 = pd.read_excel(r'/content/drive/MyDrive/salary.xlsx')\n",
        "# print(df1)"
      ],
      "metadata": {
        "colab": {
          "base_uri": "https://localhost:8080/"
        },
        "id": "yr29sAt8FKKE",
        "outputId": "71657e7d-e135-432c-c0f9-8be607c4205b"
      },
      "execution_count": null,
      "outputs": [
        {
          "output_type": "stream",
          "name": "stdout",
          "text": [
            "    Sr no.  Employee ID          Employee Name Date of birth  Age\n",
            "0        1         1001             Baki Hanma    1999-05-11   24\n",
            "1        2         1002           Yujiro Hanma    2004-02-29   18\n",
            "2        3         1003        Monkey D. Luffy    1976-05-12   47\n",
            "3        4         1004         Monkey D. Garp    1983-07-15   40\n",
            "4        5         1005          Trafalgar Law    1999-10-26   24\n",
            "5        6         1006             Alva Morte    2002-09-21   21\n",
            "6        7         1007       Miyamoto Musashi    1998-07-16   25\n",
            "7        8         1008         Shinmen Takezo    1989-07-18   34\n",
            "8        9         1009  Christopher Fernandez    2000-12-31   23\n",
            "9       10         1010            Virat Kohli    1994-06-08   29\n",
            "10      11         1011           Rohit Sharma    1968-07-03   55\n",
            "11      12         1012              John Wick    2004-02-20   18\n",
            "12      13         1013      Robert Downey Jr.    2004-06-30   18\n",
            "13      14         1014        Christ McCarthy    1998-11-26   25\n",
            "14      15         1015           Jesus Christ    1974-08-15   49\n",
            "15      16         1016             Doflamingo    1997-06-26   26\n",
            "16      17         1017            Bruce Wayne    1996-07-10   27\n",
            "17      18         1018            Andrew Tate    1968-08-11   55\n",
            "18      19         1019          Elon The Musk    1993-10-09   30\n",
            "19      20         1020             Robin Hood    1997-07-07   26\n"
          ]
        },
        {
          "output_type": "execute_result",
          "data": {
            "text/plain": [
              "26.0"
            ]
          },
          "metadata": {},
          "execution_count": 5
        }
      ]
    },
    {
      "cell_type": "code",
      "source": [
        "import pandas as pd\n",
        "df =pd.read_excel(r'/content/drive/MyDrive/employee.xlsx')\n",
        "print(df)\n",
        "\n",
        "df['Age'].std()\n",
        "# df1 = pd.read_excel(r'/content/drive/MyDrive/salary.xlsx')\n",
        "# print(df1)"
      ],
      "metadata": {
        "colab": {
          "base_uri": "https://localhost:8080/"
        },
        "id": "qxeDtr8SFZlU",
        "outputId": "164c4ad4-c8ea-4a57-db34-99cd24281c08"
      },
      "execution_count": null,
      "outputs": [
        {
          "output_type": "stream",
          "name": "stdout",
          "text": [
            "    Sr no.  Employee ID          Employee Name Date of birth  Age\n",
            "0        1         1001             Baki Hanma    1999-05-11   24\n",
            "1        2         1002           Yujiro Hanma    2004-02-29   18\n",
            "2        3         1003        Monkey D. Luffy    1976-05-12   47\n",
            "3        4         1004         Monkey D. Garp    1983-07-15   40\n",
            "4        5         1005          Trafalgar Law    1999-10-26   24\n",
            "5        6         1006             Alva Morte    2002-09-21   21\n",
            "6        7         1007       Miyamoto Musashi    1998-07-16   25\n",
            "7        8         1008         Shinmen Takezo    1989-07-18   34\n",
            "8        9         1009  Christopher Fernandez    2000-12-31   23\n",
            "9       10         1010            Virat Kohli    1994-06-08   29\n",
            "10      11         1011           Rohit Sharma    1968-07-03   55\n",
            "11      12         1012              John Wick    2004-02-20   18\n",
            "12      13         1013      Robert Downey Jr.    2004-06-30   18\n",
            "13      14         1014        Christ McCarthy    1998-11-26   25\n",
            "14      15         1015           Jesus Christ    1974-08-15   49\n",
            "15      16         1016             Doflamingo    1997-06-26   26\n",
            "16      17         1017            Bruce Wayne    1996-07-10   27\n",
            "17      18         1018            Andrew Tate    1968-08-11   55\n",
            "18      19         1019          Elon The Musk    1993-10-09   30\n",
            "19      20         1020             Robin Hood    1997-07-07   26\n"
          ]
        },
        {
          "output_type": "execute_result",
          "data": {
            "text/plain": [
              "11.991663771137013"
            ]
          },
          "metadata": {},
          "execution_count": 6
        }
      ]
    },
    {
      "cell_type": "code",
      "source": [
        "import pandas as pd\n",
        "import matplotlib.pyplot as plt\n",
        "\n",
        "df =pd.read_excel(r'/content/drive/MyDrive/employee.xlsx')\n",
        "plt.pie(df['Age'],labels=df['Employee Name'])\n",
        "plt.show()\n",
        "\n",
        "\n",
        "# df1 = pd.read_excel(r'/content/drive/MyDrive/salary.xlsx')\n",
        "# print(df1)"
      ],
      "metadata": {
        "colab": {
          "base_uri": "https://localhost:8080/",
          "height": 406
        },
        "id": "4rWRb3EoFhBl",
        "outputId": "890bbe0a-d814-40b8-ffba-d08fb6e8016b"
      },
      "execution_count": null,
      "outputs": [
        {
          "output_type": "display_data",
          "data": {
            "text/plain": [
              "<Figure size 640x480 with 1 Axes>"
            ],
            "image/png": "[encoded data removed]"
          },
          "metadata": {}
        }
      ]
    },
    {
      "cell_type": "code",
      "source": [
        "import pandas as pd\n",
        "import matplotlib.pyplot as plt\n",
        "\n",
        "df =pd.read_excel(r'/content/drive/MyDrive/employee.xlsx')\n",
        "plt.plot(df['Age'])\n",
        "\n",
        "plt.show()\n",
        "\n",
        "\n",
        "# df1 = pd.read_excel(r'/content/drive/MyDrive/salary.xlsx')\n",
        "# print(df1)"
      ],
      "metadata": {
        "colab": {
          "base_uri": "https://localhost:8080/",
          "height": 430
        },
        "id": "Ebwcq4T6HjeF",
        "outputId": "8e16574c-e8dd-425c-fcf1-73f031bfb3b4"
      },
      "execution_count": null,
      "outputs": [
        {
          "output_type": "display_data",
          "data": {
            "text/plain": [
              "<Figure size 640x480 with 1 Axes>"
            ],
            "image/png": "[encoded data removed]"
          },
          "metadata": {}
        }
      ]
    },
    {
      "cell_type": "code",
      "source": [
        "#program without lambda\n",
        "def get_cube(num):\n",
        "    return num*num*num\n",
        "print(get_cube(5))"
      ],
      "metadata": {
        "colab": {
          "base_uri": "https://localhost:8080/"
        },
        "id": "IbIMlrx02MJo",
        "outputId": "e26d6a96-5ab7-4569-b7b4-08fc59bda7f1"
      },
      "execution_count": null,
      "outputs": [
        {
          "output_type": "stream",
          "name": "stdout",
          "text": [
            "125\n"
          ]
        }
      ]
    },
    {
      "cell_type": "code",
      "source": [
        "#program with lambda function\n",
        "cube = lambda num:num*num*num\n",
        "print(cube(4))"
      ],
      "metadata": {
        "colab": {
          "base_uri": "https://localhost:8080/"
        },
        "id": "qs70RtIc1rdd",
        "outputId": "2ab9e482-758e-4b39-d211-9778f7e81ee3"
      },
      "execution_count": null,
      "outputs": [
        {
          "output_type": "stream",
          "name": "stdout",
          "text": [
            "64\n"
          ]
        }
      ]
    },
    {
      "cell_type": "code",
      "source": [
        "#dictionary operations\n",
        "dict1 = {\"ABC\":2748726,\"EDF\":89}\n",
        "print(dict1)    # print dictionary\n",
        "print(dict1.keys())  # reteriving keys from dictionary\n",
        "print(dict1.values())  # reteriving values from dictionary\n",
        "dict1.update({\"SCE\": 4/8/2003})# update dictionary\n",
        "print(dict1)\n",
        "a = dict1.__len__()  #finding length of dictionary\n",
        "print(a)\n",
        "dict1.pop(\"SCE\")  # pop an element from dictionary\n",
        "print(dict1)"
      ],
      "metadata": {
        "colab": {
          "base_uri": "https://localhost:8080/"
        },
        "id": "h-VOAdZF63GV",
        "outputId": "bd8accd4-ae40-4b9e-be5c-f0bfacd67e48"
      },
      "execution_count": null,
      "outputs": [
        {
          "output_type": "stream",
          "name": "stdout",
          "text": [
            "{'ABC': 2748726, 'EDF': 89}\n",
            "dict_keys(['ABC', 'EDF'])\n",
            "dict_values([2748726, 89])\n",
            "{'ABC': 2748726, 'EDF': 89, 'SCE': 0.00024962556165751375}\n",
            "3\n",
            "{'ABC': 2748726, 'EDF': 89}\n"
          ]
        }
      ]
    },
    {
      "cell_type": "code",
      "source": [
        "#set theory\n",
        "#set is mutable\n",
        "s1 = {10,20,30}\n",
        "for i in s1:\n",
        "  print(i)"
      ],
      "metadata": {
        "colab": {
          "base_uri": "https://localhost:8080/"
        },
        "id": "zXCoTfahcGPf",
        "outputId": "981f5a5c-f1c9-4c3c-b1ed-c964d55e4198"
      },
      "execution_count": null,
      "outputs": [
        {
          "output_type": "stream",
          "name": "stdout",
          "text": [
            "10\n",
            "20\n",
            "30\n"
          ]
        }
      ]
    },
    {
      "cell_type": "code",
      "source": [
        "a = {10,20,30}\n",
        "print(a)"
      ],
      "metadata": {
        "colab": {
          "base_uri": "https://localhost:8080/"
        },
        "id": "1u_D5IQDcpWf",
        "outputId": "e592d9c3-a16a-408e-8633-f164664608f8"
      },
      "execution_count": null,
      "outputs": [
        {
          "output_type": "stream",
          "name": "stdout",
          "text": [
            "{10, 20, 30}\n"
          ]
        }
      ]
    },
    {
      "cell_type": "code",
      "source": [
        "# we can add single elements with add\n",
        "s1 = {10,20,30}\n",
        "s1.add(5)\n",
        "print(s1)"
      ],
      "metadata": {
        "colab": {
          "base_uri": "https://localhost:8080/"
        },
        "id": "bNGLSVuydH2n",
        "outputId": "a478b3a2-db47-4a60-ac2e-f30ba8e26ee4"
      },
      "execution_count": null,
      "outputs": [
        {
          "output_type": "stream",
          "name": "stdout",
          "text": [
            "{10, 20, 5, 30}\n"
          ]
        }
      ]
    },
    {
      "cell_type": "code",
      "source": [
        "# we can add multiple elements with update\n",
        "s1 = {10,20,30}\n",
        "s1.update((5,4,3))\n",
        "print(s1)"
      ],
      "metadata": {
        "colab": {
          "base_uri": "https://localhost:8080/"
        },
        "id": "FO6OSYayd-f-",
        "outputId": "f4bd6160-6fdb-47cb-cd85-7c69d752ea93"
      },
      "execution_count": null,
      "outputs": [
        {
          "output_type": "stream",
          "name": "stdout",
          "text": [
            "{3, 4, 5, 10, 20, 30}\n"
          ]
        }
      ]
    },
    {
      "cell_type": "code",
      "source": [
        "# discard and remove are same but if the items is not there it will not rase the key error\n",
        "s1 = {2,3,4,5}\n",
        "s1.remove(7)\n",
        "print(s1)"
      ],
      "metadata": {
        "colab": {
          "base_uri": "https://localhost:8080/",
          "height": 217
        },
        "id": "jG2weHureWjO",
        "outputId": "284bea24-2bf3-42ed-f746-5a14528b2e2c"
      },
      "execution_count": null,
      "outputs": [
        {
          "output_type": "error",
          "ename": "KeyError",
          "evalue": "ignored",
          "traceback": [
            "\u001b[0;31m---------------------------------------------------------------------------\u001b[0m",
            "\u001b[0;31mKeyError\u001b[0m                                  Traceback (most recent call last)",
            "\u001b[0;32m<ipython-input-10-f5cf3b3264ec>\u001b[0m in \u001b[0;36m<cell line: 3>\u001b[0;34m()\u001b[0m\n\u001b[1;32m      1\u001b[0m \u001b[0;31m# discard and remove are same but if the items is not there it will not rase the key error\u001b[0m\u001b[0;34m\u001b[0m\u001b[0;34m\u001b[0m\u001b[0m\n\u001b[1;32m      2\u001b[0m \u001b[0ms1\u001b[0m \u001b[0;34m=\u001b[0m \u001b[0;34m{\u001b[0m\u001b[0;36m2\u001b[0m\u001b[0;34m,\u001b[0m\u001b[0;36m3\u001b[0m\u001b[0;34m,\u001b[0m\u001b[0;36m4\u001b[0m\u001b[0;34m,\u001b[0m\u001b[0;36m5\u001b[0m\u001b[0;34m}\u001b[0m\u001b[0;34m\u001b[0m\u001b[0;34m\u001b[0m\u001b[0m\n\u001b[0;32m----> 3\u001b[0;31m \u001b[0ms1\u001b[0m\u001b[0;34m.\u001b[0m\u001b[0mremove\u001b[0m\u001b[0;34m(\u001b[0m\u001b[0;36m7\u001b[0m\u001b[0;34m)\u001b[0m\u001b[0;34m\u001b[0m\u001b[0;34m\u001b[0m\u001b[0m\n\u001b[0m\u001b[1;32m      4\u001b[0m \u001b[0mprint\u001b[0m\u001b[0;34m(\u001b[0m\u001b[0ms1\u001b[0m\u001b[0;34m)\u001b[0m\u001b[0;34m\u001b[0m\u001b[0;34m\u001b[0m\u001b[0m\n",
            "\u001b[0;31mKeyError\u001b[0m: 7"
          ]
        }
      ]
    },
    {
      "cell_type": "code",
      "source": [
        "#set union\n",
        "#set of all elements from both sets\n",
        "t1 = {1,2,3,4}\n",
        "t2 = {5,6,7,8}\n",
        "c1 = t1 | t2\n",
        "print(c1)"
      ],
      "metadata": {
        "colab": {
          "base_uri": "https://localhost:8080/"
        },
        "id": "wzDXN6iXfaKI",
        "outputId": "2a09c008-3931-434c-c9a5-1449e2c5df0a"
      },
      "execution_count": null,
      "outputs": [
        {
          "output_type": "stream",
          "name": "stdout",
          "text": [
            "{1, 2, 3, 4, 5, 6, 7, 8}\n"
          ]
        }
      ]
    },
    {
      "cell_type": "code",
      "source": [
        "# set intersection\n",
        "# take the common elements from botth the sets\n",
        "t1 = {1,2,3,4}\n",
        "t2 = {4,6,7,8}\n",
        "i1 = t1 & t2\n",
        "print(i1)"
      ],
      "metadata": {
        "colab": {
          "base_uri": "https://localhost:8080/"
        },
        "id": "BmwpX4eKf_t6",
        "outputId": "35562a0b-0571-4380-db65-b565c5fad4b3"
      },
      "execution_count": null,
      "outputs": [
        {
          "output_type": "stream",
          "name": "stdout",
          "text": [
            "{4}\n"
          ]
        }
      ]
    },
    {
      "cell_type": "code",
      "source": [
        "#set difference\n",
        "#display elements that are only in t1 and not in t2\n",
        "t1 = {1,2,3,4}\n",
        "t2 = {4,6,7,8}\n",
        "i1 = t1 - t2\n",
        "print(i1)"
      ],
      "metadata": {
        "colab": {
          "base_uri": "https://localhost:8080/"
        },
        "id": "uE8lV_DRhXpw",
        "outputId": "2b9e5e92-c62e-48f5-c689-39388ecec184"
      },
      "execution_count": null,
      "outputs": [
        {
          "output_type": "stream",
          "name": "stdout",
          "text": [
            "{1, 2, 3}\n"
          ]
        }
      ]
    },
    {
      "cell_type": "code",
      "source": [
        "# symmetric difference\n",
        "# dislpay elements from both sets except common elements\n",
        "t1 = {1,2,3,0,5,4,8,4}\n",
        "t2 = {7,8,9,4,5,1,2,45,12}\n",
        "i1 = t1 ^ t2\n",
        "print(i1)"
      ],
      "metadata": {
        "colab": {
          "base_uri": "https://localhost:8080/"
        },
        "id": "O38dNg5yh8z9",
        "outputId": "7f99dfd4-a99f-4bfa-f410-62bca856345b"
      },
      "execution_count": null,
      "outputs": [
        {
          "output_type": "stream",
          "name": "stdout",
          "text": [
            "{0, 3, 7, 9, 12, 45}\n"
          ]
        }
      ]
    },
    {
      "cell_type": "code",
      "source": [
        "# remove will rise key error if the item is not there\n",
        "s1 = {1,2,3,4,5}\n",
        "s1.clear()\n",
        "print(s1)"
      ],
      "metadata": {
        "colab": {
          "base_uri": "https://localhost:8080/"
        },
        "id": "S-yexnFQi9Mn",
        "outputId": "4fa932f4-cf06-4458-852c-9315cd349056"
      },
      "execution_count": null,
      "outputs": [
        {
          "output_type": "stream",
          "name": "stdout",
          "text": [
            "set()\n"
          ]
        }
      ]
    },
    {
      "cell_type": "code",
      "source": [
        "\n",
        "\n",
        "\n",
        "# Driver Code\n",
        "l1 = ['1', '2', '1', '2', '3']\n",
        "l2 = ['anne', 'bob', 'cara', 'drake', 'ezra']\n",
        "l3 = (l1+l2)\n",
        "print(l3)"
      ],
      "metadata": {
        "id": "58CwH3dk_2m1",
        "colab": {
          "base_uri": "https://localhost:8080/"
        },
        "outputId": "c6e62260-149f-4c6e-ab6f-3f5601cb1738"
      },
      "execution_count": null,
      "outputs": [
        {
          "output_type": "stream",
          "name": "stdout",
          "text": [
            "['1', '2', '1', '2', '3', 'anne', 'bob', 'cara', 'drake', 'ezra']\n"
          ]
        }
      ]
    },
    {
      "cell_type": "code",
      "source": [
        "import pandas as pd\n",
        "df1 = pd.DataFrame([[\"sahil\",\"prasad\",\"sudarshan\"],[1,2,3]])\n",
        "df2 = pd.DataFrame([[\"sahil\",\"prasad\",\"sudarshan\"],[10,20,30]])\n",
        "df3 = pd.concat([df1, df2])\n",
        "display(df3)\n",
        "\n",
        "\n",
        "\n"
      ],
      "metadata": {
        "colab": {
          "base_uri": "https://localhost:8080/",
          "height": 175
        },
        "id": "BDuS-v3VYmSu",
        "outputId": "f19741e3-be1c-4e11-9107-546b98b550a7"
      },
      "execution_count": null,
      "outputs": [
        {
          "output_type": "display_data",
          "data": {
            "text/plain": [
              "       0       1          2\n",
              "0  sahil  prasad  sudarshan\n",
              "1      1       2          3\n",
              "0  sahil  prasad  sudarshan\n",
              "1     10      20         30"
            ],
            "text/html": [
              "\n",
              "  <div id=\"df-292ebcf6-05b0-4ab6-8d45-fe50b9f58df7\">\n",
              "    <div class=\"colab-df-container\">\n",
              "      <div>\n",
              "<style scoped>\n",
              "    .dataframe tbody tr th:only-of-type {\n",
              "        vertical-align: middle;\n",
              "    }\n",
              "\n",
              "    .dataframe tbody tr th {\n",
              "        vertical-align: top;\n",
              "    }\n",
              "\n",
              "    .dataframe thead th {\n",
              "        text-align: right;\n",
              "    }\n",
              "</style>\n",
              "<table border=\"1\" class=\"dataframe\">\n",
              "  <thead>\n",
              "    <tr style=\"text-align: right;\">\n",
              "      <th></th>\n",
              "      <th>0</th>\n",
              "      <th>1</th>\n",
              "      <th>2</th>\n",
              "    </tr>\n",
              "  </thead>\n",
              "  <tbody>\n",
              "    <tr>\n",
              "      <th>0</th>\n",
              "      <td>sahil</td>\n",
              "      <td>prasad</td>\n",
              "      <td>sudarshan</td>\n",
              "    </tr>\n",
              "    <tr>\n",
              "      <th>1</th>\n",
              "      <td>1</td>\n",
              "      <td>2</td>\n",
              "      <td>3</td>\n",
              "    </tr>\n",
              "    <tr>\n",
              "      <th>0</th>\n",
              "      <td>sahil</td>\n",
              "      <td>prasad</td>\n",
              "      <td>sudarshan</td>\n",
              "    </tr>\n",
              "    <tr>\n",
              "      <th>1</th>\n",
              "      <td>10</td>\n",
              "      <td>20</td>\n",
              "      <td>30</td>\n",
              "    </tr>\n",
              "  </tbody>\n",
              "</table>\n",
              "</div>\n",
              "      <button class=\"colab-df-convert\" onclick=\"convertToInteractive('df-292ebcf6-05b0-4ab6-8d45-fe50b9f58df7')\"\n",
              "              title=\"Convert this dataframe to an interactive table.\"\n",
              "              style=\"display:none;\">\n",
              "        \n",
              "  <svg xmlns=\"http://www.w3.org/2000/svg\" height=\"24px\"viewBox=\"0 0 24 24\"\n",
              "       width=\"24px\">\n",
              "    <path d=\"M0 0h24v24H0V0z\" fill=\"none\"/>\n",
              "    <path d=\"M18.56 5.44l.94 2.06.94-2.06 2.06-.94-2.06-.94-.94-2.06-.94 2.06-2.06.94zm-11 1L8.5 8.5l.94-2.06 2.06-.94-2.06-.94L8.5 2.5l-.94 2.06-2.06.94zm10 10l.94 2.06.94-2.06 2.06-.94-2.06-.94-.94-2.06-.94 2.06-2.06.94z\"/><path d=\"M17.41 7.96l-1.37-1.37c-.4-.4-.92-.59-1.43-.59-.52 0-1.04.2-1.43.59L10.3 9.45l-7.72 7.72c-.78.78-.78 2.05 0 2.83L4 21.41c.39.39.9.59 1.41.59.51 0 1.02-.2 1.41-.59l7.78-7.78 2.81-2.81c.8-.78.8-2.07 0-2.86zM5.41 20L4 18.59l7.72-7.72 1.47 1.35L5.41 20z\"/>\n",
              "  </svg>\n",
              "      </button>\n",
              "      \n",
              "  <style>\n",
              "    .colab-df-container {\n",
              "      display:flex;\n",
              "      flex-wrap:wrap;\n",
              "      gap: 12px;\n",
              "    }\n",
              "\n",
              "    .colab-df-convert {\n",
              "      background-color: #E8F0FE;\n",
              "      border: none;\n",
              "      border-radius: 50%;\n",
              "      cursor: pointer;\n",
              "      display: none;\n",
              "      fill: #1967D2;\n",
              "      height: 32px;\n",
              "      padding: 0 0 0 0;\n",
              "      width: 32px;\n",
              "    }\n",
              "\n",
              "    .colab-df-convert:hover {\n",
              "      background-color: #E2EBFA;\n",
              "      box-shadow: 0px 1px 2px rgba(60, 64, 67, 0.3), 0px 1px 3px 1px rgba(60, 64, 67, 0.15);\n",
              "      fill: #174EA6;\n",
              "    }\n",
              "\n",
              "    [theme=dark] .colab-df-convert {\n",
              "      background-color: #3B4455;\n",
              "      fill: #D2E3FC;\n",
              "    }\n",
              "\n",
              "    [theme=dark] .colab-df-convert:hover {\n",
              "      background-color: #434B5C;\n",
              "      box-shadow: 0px 1px 3px 1px rgba(0, 0, 0, 0.15);\n",
              "      filter: drop-shadow(0px 1px 2px rgba(0, 0, 0, 0.3));\n",
              "      fill: #FFFFFF;\n",
              "    }\n",
              "  </style>\n",
              "\n",
              "      <script>\n",
              "        const buttonEl =\n",
              "          document.querySelector('#df-292ebcf6-05b0-4ab6-8d45-fe50b9f58df7 button.colab-df-convert');\n",
              "        buttonEl.style.display =\n",
              "          google.colab.kernel.accessAllowed ? 'block' : 'none';\n",
              "\n",
              "        async function convertToInteractive(key) {\n",
              "          const element = document.querySelector('#df-292ebcf6-05b0-4ab6-8d45-fe50b9f58df7');\n",
              "          const dataTable =\n",
              "            await google.colab.kernel.invokeFunction('convertToInteractive',\n",
              "                                                     [key], {});\n",
              "          if (!dataTable) return;\n",
              "\n",
              "          const docLinkHtml = 'Like what you see? Visit the ' +\n",
              "            '<a target=\"_blank\" href=https://colab.research.google.com/notebooks/data_table.ipynb>data table notebook</a>'\n",
              "            + ' to learn more about interactive tables.';\n",
              "          element.innerHTML = '';\n",
              "          dataTable['output_type'] = 'display_data';\n",
              "          await google.colab.output.renderOutput(dataTable, element);\n",
              "          const docLink = document.createElement('div');\n",
              "          docLink.innerHTML = docLinkHtml;\n",
              "          element.appendChild(docLink);\n",
              "        }\n",
              "      </script>\n",
              "    </div>\n",
              "  </div>\n",
              "  "
            ]
          },
          "metadata": {}
        }
      ]
    },
    {
      "cell_type": "code",
      "source": [
        "#brodcasting\n",
        "#without broadcasting addition of only identical\n",
        "#dimension(shape) tensors is supported\n",
        "#broadcasting provide us the flexibility to add two tensors\n",
        "#of different dimension.\n",
        "import numpy as np\n",
        "x = np.array([1,2,3,4,5,6])\n",
        "y = np.array([5,7,8])\n",
        "X=x.reshape(2,3)\n",
        "print(\"X =\",X)\n",
        "print(\"\\n y =\",y)\n",
        "z=X+y\n",
        "print(\"X + y =\",z)"
      ],
      "metadata": {
        "colab": {
          "base_uri": "https://localhost:8080/"
        },
        "id": "7ivr_aaLkrgd",
        "outputId": "1b19b7a7-d0a6-4855-9185-ad5ee9181e10"
      },
      "execution_count": null,
      "outputs": [
        {
          "output_type": "stream",
          "name": "stdout",
          "text": [
            "X = [[1 2 3]\n",
            " [4 5 6]]\n",
            "\n",
            " y = [5 7 8]\n",
            "X + y = [[ 6  9 11]\n",
            " [ 9 12 14]]\n"
          ]
        }
      ]
    },
    {
      "cell_type": "code",
      "source": [
        "# calculate todays date\n",
        "from datetime import date\n",
        "today = date.today()  #fetch todays date\n",
        "print(today)"
      ],
      "metadata": {
        "colab": {
          "base_uri": "https://localhost:8080/"
        },
        "id": "r0op4VvCMOKj",
        "outputId": "4a685048-4282-4f02-d355-456051f24130"
      },
      "execution_count": null,
      "outputs": [
        {
          "output_type": "stream",
          "name": "stdout",
          "text": [
            "2023-05-03\n"
          ]
        }
      ]
    },
    {
      "cell_type": "code",
      "source": [
        "#importing datetime module for now()\n",
        "import datetime\n",
        "#using now() to get current time\n",
        "current_time = datetime.datetime.now()\n",
        "print(current_time)\n",
        "#printing attributes of now()\n",
        "print(\"the attributes of now( are : \")\n",
        "print(\"day: \", end = \"\")\n",
        "print(current_time.day)\n",
        "print(\"year: \", end = \"\")\n",
        "print(current_time.year)\n",
        "print(\"month: \", end = \"\")\n",
        "print(current_time.year)\n",
        "\n",
        "\n"
      ],
      "metadata": {
        "colab": {
          "base_uri": "https://localhost:8080/"
        },
        "id": "YS3KLifnMmj7",
        "outputId": "ebf356f7-207d-4824-dffa-3867abb14c59"
      },
      "execution_count": null,
      "outputs": [
        {
          "output_type": "stream",
          "name": "stdout",
          "text": [
            "2023-05-03 11:11:22.008192\n"
          ]
        }
      ]
    },
    {
      "cell_type": "code",
      "source": [
        "import pandas as pd\n",
        "df = pd.read_csv(\"/content/drive/MyDrive/EDS 1/exmp.csv\")\n",
        "df1 = pd.read_csv(\"/content/drive/MyDrive/EDS 1/exmp2.csv\")\n",
        "df2 = pd.merge(df,df1,on = \"ID\")\n",
        "df2.to_csv(\"EmployeesDetails.csv\",index = False)\n",
        "merged_df =pd.read_csv('/content/EmployeesDetails.csv')\n",
        "print(merged_df)\n",
        "avg = merged_df.mean()\n",
        "max = merged_df.max()\n",
        "min = merged_df.min()\n",
        "count = merged_df.count()\n",
        "sum = merged_df.sum()\n",
        "percent = merged_df.mean() / merged_df.count() * 100\n",
        "print(\"Average:\\n\", avg)\n",
        "print(\"Max:\\n\", max)\n",
        "print(\"Min:\\n\", min)\n",
        "print(\"Count:\\n\", count)\n",
        "print(\"Sum:\\n\", sum)\n",
        "print(\"Percentage:\\n\", percent)\n"
      ],
      "metadata": {
        "colab": {
          "base_uri": "https://localhost:8080/"
        },
        "id": "bW_u5uSLSJwg",
        "outputId": "e75fd568-0d49-404a-bbab-d8a596101bf6"
      },
      "execution_count": null,
      "outputs": [
        {
          "output_type": "stream",
          "name": "stdout",
          "text": [
            "   ID       Name  Work Experience                   Role   Salary\n",
            "0   1   Om Borle                5                     HR  1025000\n",
            "1   2  Om Bhoyar                3  Jr. Backend Developer   780000\n",
            "2   3   Subbudha                4         Product Tester   890000\n",
            "3   4    Shambhu                4     Frontend Developer   700000\n",
            "4   5      Vijay                3       Quality Incharge   650000\n",
            "5   6     Prasad                5                Manager   850000\n",
            "6   7      Sahil                4          Risk Analyser   710000\n",
            "7   8    Apporva                6   Full Stack Developer   650000\n",
            "8   9  Sudarshan                3              Recruiter   412000\n",
            "9  10     Pranay                4          Data enginner   900000\n",
            "Average:\n",
            " ID                      5.5\n",
            "Work Experience         4.1\n",
            "Salary             756700.0\n",
            "dtype: float64\n",
            "Max:\n",
            " ID                            10\n",
            "Name                       Vijay\n",
            "Work Experience                6\n",
            "Role               Risk Analyser\n",
            "Salary                   1025000\n",
            "dtype: object\n",
            "Min:\n",
            " ID                             1\n",
            "Name                    Om Borle\n",
            "Work Experience                3\n",
            "Role               Data enginner\n",
            "Salary                    412000\n",
            "dtype: object\n",
            "Count:\n",
            " ID                 10\n",
            "Name               10\n",
            "Work Experience    10\n",
            "Role               10\n",
            "Salary             10\n",
            "dtype: int64\n",
            "Sum:\n",
            " ID                                                                55\n",
            "Name                Om BorleOm BhoyarSubbudhaShambhuVijayPrasadSa...\n",
            "Work Experience                                                   41\n",
            "Role               HRJr. Backend DeveloperProduct TesterFrontend ...\n",
            "Salary                                                       7567000\n",
            "dtype: object\n",
            "Percentage:\n",
            " ID                      55.0\n",
            "Name                     NaN\n",
            "Role                     NaN\n",
            "Salary             7567000.0\n",
            "Work Experience         41.0\n",
            "dtype: float64\n"
          ]
        },
        {
          "output_type": "stream",
          "name": "stderr",
          "text": [
            "<ipython-input-4-bd84a3b35257>:8: FutureWarning: The default value of numeric_only in DataFrame.mean is deprecated. In a future version, it will default to False. In addition, specifying 'numeric_only=None' is deprecated. Select only valid columns or specify the value of numeric_only to silence this warning.\n",
            "  avg = merged_df.mean()\n",
            "<ipython-input-4-bd84a3b35257>:13: FutureWarning: The default value of numeric_only in DataFrame.mean is deprecated. In a future version, it will default to False. In addition, specifying 'numeric_only=None' is deprecated. Select only valid columns or specify the value of numeric_only to silence this warning.\n",
            "  percent = merged_df.mean() / merged_df.count() * 100\n"
          ]
        }
      ]
    },
    {
      "cell_type": "code",
      "source": [
        "#python modules\n",
        "# import math library\n",
        "import math\n",
        "print(math.pow(5,3))"
      ],
      "metadata": {
        "colab": {
          "base_uri": "https://localhost:8080/"
        },
        "id": "4qvfGVDW35uJ",
        "outputId": "3b81d3de-d8ae-4f0b-d76b-b54368aa5bd8"
      },
      "execution_count": null,
      "outputs": [
        {
          "output_type": "stream",
          "name": "stdout",
          "text": [
            "125.0\n"
          ]
        }
      ]
    },
    {
      "cell_type": "code",
      "source": [
        "#itertools in python\n",
        "from itertools import count\n",
        "\n",
        "for number in count(start=1,step=3):\n",
        "   if number > 10:\n",
        "    break\n",
        "    print(number)\n"
      ],
      "metadata": {
        "id": "9ENmKezD5WgQ"
      },
      "execution_count": null,
      "outputs": []
    },
    {
      "cell_type": "code",
      "source": [
        "x = range(2,8)\n",
        "for z in x:\n",
        "  print(z)"
      ],
      "metadata": {
        "colab": {
          "base_uri": "https://localhost:8080/"
        },
        "id": "xdhiUMsf6er1",
        "outputId": "1b0b8e67-f2a7-4d3f-e3b7-0654e32dc4e0"
      },
      "execution_count": null,
      "outputs": [
        {
          "output_type": "stream",
          "name": "stdout",
          "text": [
            "2\n",
            "3\n",
            "4\n",
            "5\n",
            "6\n",
            "7\n"
          ]
        }
      ]
    },
    {
      "cell_type": "code",
      "source": [
        "# fraction\n",
        "from fractions import Fraction\n",
        "print (Fraction(8,7))\n",
        "print (Fraction(25,5))\n"
      ],
      "metadata": {
        "colab": {
          "base_uri": "https://localhost:8080/"
        },
        "id": "gX8k_dvx9Co3",
        "outputId": "aed4e173-0651-4f1f-ae72-62c214a50281"
      },
      "execution_count": null,
      "outputs": [
        {
          "output_type": "stream",
          "name": "stdout",
          "text": [
            "8/7\n",
            "5\n"
          ]
        }
      ]
    },
    {
      "cell_type": "code",
      "source": [
        "import decimal\n",
        "from decimal import Decimal\n",
        "x = Decimal('0.11')\n",
        "y = Decimal('1.8')\n",
        "s = Decimal('2.4')\n",
        "z = x+y+s\n",
        "print(z)"
      ],
      "metadata": {
        "colab": {
          "base_uri": "https://localhost:8080/"
        },
        "id": "du93a3rZ71e0",
        "outputId": "eea9a6d2-08e7-4dfe-e2d7-73e33b09d543"
      },
      "execution_count": null,
      "outputs": [
        {
          "output_type": "stream",
          "name": "stdout",
          "text": [
            "4.31\n"
          ]
        }
      ]
    },
    {
      "cell_type": "code",
      "source": [
        "#decimal\n",
        "#float\n",
        "import decimal\n",
        "float_division=4/3\n",
        "decimal_division=decimal.Decimal(4)/decimal.Decimal(3)\n",
        "print(float_division)\n",
        "print(decimal_division)"
      ],
      "metadata": {
        "colab": {
          "base_uri": "https://localhost:8080/"
        },
        "id": "0mxvhLPw-HFO",
        "outputId": "28d21169-4778-4896-aab4-cf0596e36ffb"
      },
      "execution_count": null,
      "outputs": [
        {
          "output_type": "stream",
          "name": "stdout",
          "text": [
            "1.3333333333333333\n",
            "1.333333333333333333333333333\n"
          ]
        }
      ]
    },
    {
      "cell_type": "code",
      "source": [
        "# Task\n",
        "l1 = [12,1.2, True, \"Rohit\"]\n",
        "l1.append(\"Jagtap\")\n",
        "\n",
        "print (l1)\n",
        "l1.extend(\"Jagtap\")\n",
        "\n",
        "print (l1)\n",
        "\n",
        "l1.remove(12)\n",
        "\n",
        "print (l1)\n",
        "\n",
        "l1.discard(12)\n",
        "\n",
        "\n",
        "\n"
      ],
      "metadata": {
        "colab": {
          "base_uri": "https://localhost:8080/",
          "height": 287
        },
        "id": "WY2rFuTKTT64",
        "outputId": "fab65049-724f-4ef8-d532-29df5fae6c21"
      },
      "execution_count": null,
      "outputs": [
        {
          "output_type": "stream",
          "name": "stdout",
          "text": [
            "[12, 1.2, True, 'Rohit', 'Jagtap']\n",
            "[12, 1.2, True, 'Rohit', 'Jagtap', 'J', 'a', 'g', 't', 'a', 'p']\n",
            "[1.2, True, 'Rohit', 'Jagtap', 'J', 'a', 'g', 't', 'a', 'p']\n"
          ]
        },
        {
          "output_type": "error",
          "ename": "AttributeError",
          "evalue": "ignored",
          "traceback": [
            "\u001b[0;31m---------------------------------------------------------------------------\u001b[0m",
            "\u001b[0;31mAttributeError\u001b[0m                            Traceback (most recent call last)",
            "\u001b[0;32m<ipython-input-4-df9b4a3ff17e>\u001b[0m in \u001b[0;36m<cell line: 13>\u001b[0;34m()\u001b[0m\n\u001b[1;32m     11\u001b[0m \u001b[0mprint\u001b[0m \u001b[0;34m(\u001b[0m\u001b[0ml1\u001b[0m\u001b[0;34m)\u001b[0m\u001b[0;34m\u001b[0m\u001b[0;34m\u001b[0m\u001b[0m\n\u001b[1;32m     12\u001b[0m \u001b[0;34m\u001b[0m\u001b[0m\n\u001b[0;32m---> 13\u001b[0;31m \u001b[0ml1\u001b[0m\u001b[0;34m.\u001b[0m\u001b[0mdiscard\u001b[0m\u001b[0;34m(\u001b[0m\u001b[0;36m12\u001b[0m\u001b[0;34m)\u001b[0m\u001b[0;34m\u001b[0m\u001b[0;34m\u001b[0m\u001b[0m\n\u001b[0m\u001b[1;32m     14\u001b[0m \u001b[0;34m\u001b[0m\u001b[0m\n\u001b[1;32m     15\u001b[0m \u001b[0;34m\u001b[0m\u001b[0m\n",
            "\u001b[0;31mAttributeError\u001b[0m: 'list' object has no attribute 'discard'"
          ]
        }
      ]
    },
    {
      "cell_type": "code",
      "source": [
        "#task\n",
        "#area of rectangle\n",
        "area = lambda l,b:l*b\n",
        "\n",
        "print (area(2,3,))\n",
        "\n",
        "#area of sphere\n",
        "\n",
        "area=lambda r:4*3.14*r*r\n",
        "\n",
        "print(area(6))\n",
        "\n",
        "#area of circle\n",
        "\n",
        "area =lambda r:3.14*r*r\n",
        "print(area(2))"
      ],
      "metadata": {
        "colab": {
          "base_uri": "https://localhost:8080/"
        },
        "id": "HJjEV9acUs8q",
        "outputId": "9679d8ab-6cb0-4d35-be58-3915c897c212"
      },
      "execution_count": null,
      "outputs": [
        {
          "output_type": "stream",
          "name": "stdout",
          "text": [
            "6\n",
            "452.15999999999997\n",
            "12.56\n"
          ]
        }
      ]
    },
    {
      "cell_type": "code",
      "source": [
        "import pandas as pd\n",
        "\n",
        "# Creating a dictionary\n",
        "data = {\n",
        "    'Name': ['sahil', 'Emma', 'Michael', 'Sophia'],\n",
        "    'Age': [25, 28, 32, 29],\n",
        "    'City': ['New York', 'London', 'Paris', 'Sydney']\n",
        "}\n",
        "\n",
        "# Converting dictionary to dataframe\n",
        "df = pd.DataFrame(data)\n",
        "\n",
        "print(df)"
      ],
      "metadata": {
        "colab": {
          "base_uri": "https://localhost:8080/"
        },
        "id": "BgV7VeadXW4K",
        "outputId": "0b5d9b35-1711-4eed-b1db-cb4b0a2bc636"
      },
      "execution_count": null,
      "outputs": [
        {
          "output_type": "stream",
          "name": "stdout",
          "text": [
            "      Name  Age      City\n",
            "0    sahil   25  New York\n",
            "1     Emma   28    London\n",
            "2  Michael   32     Paris\n",
            "3   Sophia   29    Sydney\n"
          ]
        }
      ]
    },
    {
      "cell_type": "code",
      "source": [
        "import pandas as pd\n",
        "df = pd.read_excel(\"/content/drive/MyDrive/shambhu111.xlsx\")\n",
        "df1 = pd.read_excel(\"/content/drive/MyDrive/shambhu123.xlsx\")\n",
        "df2 = pd.merge(df,df1,on = \"ID\")\n",
        "df2.to_excel(\"EmployeesDetails.xlsx\",index = False)\n",
        "merged_df =pd.read_excel('/content/EmployeesDetails.xlsx')\n",
        "print(merged_df)\n",
        "avg = merged_df.mean()\n",
        "max = merged_df.max()\n",
        "min = merged_df.min()\n",
        "count = merged_df.count()\n",
        "sum = merged_df.sum()\n",
        "percent = merged_df.mean() / merged_df.count() * 100\n",
        "print(\"Average:\\n\", avg)\n",
        "print(\"Max:\\n\", max)\n",
        "print(\"Min:\\n\", min)\n",
        "print(\"Count:\\n\", count)\n",
        "print(\"Sum:\\n\", sum)\n",
        "print(\"Percentage:\\n\", percent)"
      ],
      "metadata": {
        "colab": {
          "base_uri": "https://localhost:8080/"
        },
        "id": "oGe63S2GZRjg",
        "outputId": "21cb678d-24b2-4813-e48b-6a8dab993abe"
      },
      "execution_count": null,
      "outputs": [
        {
          "output_type": "stream",
          "name": "stdout",
          "text": [
            "    ID       Name  Work Experience                   Role   Salary\n",
            "0    1   Om Borle              5.0                     HR  1025000\n",
            "1    2  Om Bhoyar              3.0  Jr. Backend Developer   780000\n",
            "2    3   Subbudha              4.0         Product Tester   890000\n",
            "3    4    Shambhu              4.0     Frontend Developer   700000\n",
            "4    5      Vijay              3.0       Quality Incharge   650000\n",
            "5    6     Prasad              5.0                Manager   850000\n",
            "6    7      Sahil              4.0          Risk Analyser   710000\n",
            "7    8    Apporva              6.0   Full Stack Developer   650000\n",
            "8    9  Sudarshan              3.0              Recruiter   412000\n",
            "9   10     Pranay              4.0          Data enginner   900000\n",
            "10  11    Sushant              3.0          Data Analyser     1000\n",
            "11  12       Yash              6.0          Administrator    20000\n",
            "12  13    sarthak              3.0                 worker   500000\n",
            "13  14     Akshit              NaN                 worker     5000\n",
            "14  15   Shravani              NaN                 worker     4000\n",
            "15  16      Divya              NaN                 worker     3000\n",
            "16  17    Divyani              NaN                 worker     8000\n",
            "17  18    Anushka              NaN                 worker     5000\n",
            "18  19      Rohit              NaN                 worker     8000\n",
            "19  20     Nikita              NaN                 worker     4000\n",
            "20  21      Aishu              NaN                 worker     3000\n",
            "Average:\n",
            " ID                     11.000000\n",
            "Work Experience         4.076923\n",
            "Salary             387047.619048\n",
            "dtype: float64\n",
            "Max:\n",
            " ID                      21\n",
            "Name               sarthak\n",
            "Work Experience        6.0\n",
            "Role                worker\n",
            "Salary             1025000\n",
            "dtype: object\n",
            "Min:\n",
            " ID                             1\n",
            "Name                       Aishu\n",
            "Work Experience              3.0\n",
            "Role               Administrator\n",
            "Salary                      1000\n",
            "dtype: object\n",
            "Count:\n",
            " ID                 21\n",
            "Name               21\n",
            "Work Experience    13\n",
            "Role               21\n",
            "Salary             21\n",
            "dtype: int64\n",
            "Sum:\n",
            " ID                                                               231\n",
            "Name               Om BorleOm BhoyarSubbudhaShambhuVijayPrasadSah...\n",
            "Work Experience                                                 53.0\n",
            "Role               HRJr. Backend DeveloperProduct TesterFrontend ...\n",
            "Salary                                                       8128000\n",
            "dtype: object\n",
            "Percentage:\n",
            " ID                 5.238095e+01\n",
            "Name                        NaN\n",
            "Role                        NaN\n",
            "Salary             1.843084e+06\n",
            "Work Experience    3.136095e+01\n",
            "dtype: float64\n"
          ]
        },
        {
          "output_type": "stream",
          "name": "stderr",
          "text": [
            "<ipython-input-1-d72d257fe032>:8: FutureWarning: The default value of numeric_only in DataFrame.mean is deprecated. In a future version, it will default to False. In addition, specifying 'numeric_only=None' is deprecated. Select only valid columns or specify the value of numeric_only to silence this warning.\n",
            "  avg = merged_df.mean()\n",
            "<ipython-input-1-d72d257fe032>:13: FutureWarning: The default value of numeric_only in DataFrame.mean is deprecated. In a future version, it will default to False. In addition, specifying 'numeric_only=None' is deprecated. Select only valid columns or specify the value of numeric_only to silence this warning.\n",
            "  percent = merged_df.mean() / merged_df.count() * 100\n"
          ]
        }
      ]
    },
    {
      "cell_type": "code",
      "source": [
        "import pandas as pd\n",
        "df = pd.read_csv(r'/content/drive/MyDrive/Shambhu MSE.csv')\n",
        "print(df)\n",
        "# Display all records with Subject Credit 10\n",
        "credit_10_records = df[df['Subject Credit'] == 10]\n",
        "print(\"Records with Subject Credit 10:\")\n",
        "print(credit_10_records)\n",
        "print()\n",
        "\n",
        "# Display all the Faculty and Subject when Class Room Number is D101\n",
        "d101_records = df[df['Class Room No.'] == 'D 101']\n",
        "d101_faculty_subject = d101_records[['Faculty', 'Subject']]\n",
        "print(\"Faculty and Subject for Class Room Number D101:\")\n",
        "print(d101_faculty_subject)\n",
        "print()\n",
        "\n",
        "# Display all the Faculty with the name \"Tejas\"\n",
        "tejas_faculty = df[df['Faculty'] == 'Tejas']\n",
        "print(\"Faculty with the name Tejas:\")\n",
        "print(tejas_faculty)\n"
      ],
      "metadata": {
        "colab": {
          "base_uri": "https://localhost:8080/"
        },
        "id": "YTZ97a2lrVaE",
        "outputId": "2eeb4544-9929-4947-bd3b-061cbaebc01c"
      },
      "execution_count": null,
      "outputs": [
        {
          "output_type": "stream",
          "name": "stdout",
          "text": [
            "    Sr. no    Subject  Faculty Class Room No.  Subject Credit\n",
            "0        1   Geometry   Swarup          D 101              10\n",
            "1        2    Biology    Sahil          D 202              20\n",
            "2        3    History  Prajwal          D 309              30\n",
            "3        4    Physics    Tejas          H 001              50\n",
            "4        5  Geography  Vaibhav          A 007              20\n",
            "5        6    Algebra  Shivraj          D 109              40\n",
            "6        7   Computer    Shyam          A 006              80\n",
            "7        8        P.E  Shambhu    Play Ground              50\n",
            "8        9   Geometry   Swarup          D 101              10\n",
            "9       10   Computer    Shyam          A 006              80\n",
            "10      11    Algebra  Shivraj          D 109              40\n",
            "11      12    Physics    Tejas           D106              50\n",
            "12      13    History  Prajwal           D105              30\n",
            "13      14        P.E  Shambhu           D106              50\n",
            "14      15    Physics    Tejas           A005              50\n",
            "15      16  Geography  Vaibhav           H006              20\n",
            "16      17  Geography  Vaibhav          D 109              20\n",
            "17      18    Physics    Tejas          D 109              50\n",
            "18      19   Geometry   Swarup           D106              10\n",
            "19      20    Algebra  Shivraj          D 203              40\n",
            "Records with Subject Credit 10:\n",
            "    Sr. no   Subject Faculty Class Room No.  Subject Credit\n",
            "0        1  Geometry  Swarup          D 101              10\n",
            "8        9  Geometry  Swarup          D 101              10\n",
            "18      19  Geometry  Swarup           D106              10\n",
            "\n",
            "Faculty and Subject for Class Room Number D101:\n",
            "  Faculty   Subject\n",
            "0  Swarup  Geometry\n",
            "8  Swarup  Geometry\n",
            "\n",
            "Faculty with the name Tejas:\n",
            "    Sr. no  Subject Faculty Class Room No.  Subject Credit\n",
            "3        4  Physics   Tejas          H 001              50\n",
            "11      12  Physics   Tejas           D106              50\n",
            "14      15  Physics   Tejas           A005              50\n",
            "17      18  Physics   Tejas          D 109              50\n"
          ]
        }
      ]
    },
    {
      "cell_type": "code",
      "source": [
        "import pandas as pd\n",
        "df1= pd.read_excel('/content/drive/MyDrive/Studlist.xlsx')\n",
        "print(df1)\n",
        "data =df1.values.tolist()\n",
        "\n",
        "a = df1['Rollno']\n",
        "b = df1['Name']\n",
        "\n",
        "df1.Rollno = df1.Rollno.astype('int64')\n",
        "d = df1['Name'][df1.Rollno>24]\n",
        "\n",
        "def studnet(a,b):\n",
        "  print('Stud:', a, b)\n",
        "\n",
        "studnet(a,b)"
      ],
      "metadata": {
        "colab": {
          "base_uri": "https://localhost:8080/"
        },
        "id": "FtIpsYlxujvY",
        "outputId": "622b5c04-ed30-452e-b800-bb332af7990a"
      },
      "execution_count": null,
      "outputs": [
        {
          "output_type": "stream",
          "name": "stdout",
          "text": [
            "    Rollno          Name\n",
            "0        1          Brad\n",
            "1        2          Pitt\n",
            "2        3      Jennifer\n",
            "3        4      Lawrence\n",
            "4        5       Patrick\n",
            "5        6       Bateman\n",
            "6        7     Christian\n",
            "7        8          Bale\n",
            "8        9        Batman\n",
            "9       10        Robert\n",
            "10      11        Downey\n",
            "11      12        Junior\n",
            "12      13        Chirst\n",
            "13      14         Evans\n",
            "14      15         Steve\n",
            "15      16        Rogers\n",
            "16      17      Captain \n",
            "17      18       America\n",
            "18      19          Iron\n",
            "19      20           Man\n",
            "20      21          Hulk\n",
            "21      22          Thor\n",
            "22      23  Strombreaker\n",
            "23      24        Nebula\n",
            "24      25      Scarlet \n",
            "25      26         Witch\n",
            "26      27          Rock\n",
            "27      28     John Cena\n",
            "28      29           NaN\n",
            "29      30        Brock \n",
            "30      31        Lesnar\n",
            "31      32        Khabib\n",
            "32      33    Nurmanogov\n",
            "33      34        Cornor\n",
            "34      35      McGregor\n",
            "35      36         Joker\n",
            "36      37        Arthur\n",
            "37      38         Fleck\n",
            "38      39          Bane\n",
            "39      40         Wayne\n",
            "Stud: 0      1\n",
            "1      2\n",
            "2      3\n",
            "3      4\n",
            "4      5\n",
            "5      6\n",
            "6      7\n",
            "7      8\n",
            "8      9\n",
            "9     10\n",
            "10    11\n",
            "11    12\n",
            "12    13\n",
            "13    14\n",
            "14    15\n",
            "15    16\n",
            "16    17\n",
            "17    18\n",
            "18    19\n",
            "19    20\n",
            "20    21\n",
            "21    22\n",
            "22    23\n",
            "23    24\n",
            "24    25\n",
            "25    26\n",
            "26    27\n",
            "27    28\n",
            "28    29\n",
            "29    30\n",
            "30    31\n",
            "31    32\n",
            "32    33\n",
            "33    34\n",
            "34    35\n",
            "35    36\n",
            "36    37\n",
            "37    38\n",
            "38    39\n",
            "39    40\n",
            "Name: Rollno, dtype: int64 0             Brad\n",
            "1             Pitt\n",
            "2         Jennifer\n",
            "3         Lawrence\n",
            "4          Patrick\n",
            "5          Bateman\n",
            "6        Christian\n",
            "7             Bale\n",
            "8           Batman\n",
            "9           Robert\n",
            "10          Downey\n",
            "11          Junior\n",
            "12          Chirst\n",
            "13           Evans\n",
            "14           Steve\n",
            "15          Rogers\n",
            "16        Captain \n",
            "17         America\n",
            "18            Iron\n",
            "19             Man\n",
            "20            Hulk\n",
            "21            Thor\n",
            "22    Strombreaker\n",
            "23          Nebula\n",
            "24        Scarlet \n",
            "25           Witch\n",
            "26            Rock\n",
            "27       John Cena\n",
            "28             NaN\n",
            "29          Brock \n",
            "30          Lesnar\n",
            "31          Khabib\n",
            "32      Nurmanogov\n",
            "33          Cornor\n",
            "34        McGregor\n",
            "35           Joker\n",
            "36          Arthur\n",
            "37           Fleck\n",
            "38            Bane\n",
            "39           Wayne\n",
            "Name: Name, dtype: object\n"
          ]
        }
      ]
    },
    {
      "cell_type": "code",
      "source": [
        "import pandas as pd\n",
        "df1 = pd.read_csv(r'/content/drive/MyDrive/kaggle sheet 2.csv')\n",
        "#print(df1)\n",
        "data =df1.values.tolist()\n",
        "a = df1['Runs']\n",
        "b = df1['Position']\n",
        "#print(a,b)\n",
        "\n",
        "\n",
        "import pandas as pd\n",
        "import matplotlib.pyplot as plt\n",
        "# Read the CSV file\n",
        "data = pd.read_csv('/content/drive/MyDrive/kaggle sheet 2.csv')\n",
        "\n",
        "# Convert 'Runs' and 'Innings' columns to integers\n",
        "data['Runs'] = data['Runs'].astype(int)\n",
        "data['Innings'] = data['Innings'].astype(int)\n",
        "\n",
        "# Plot the graph\n",
        "plt.plot(data['Runs'], data['Innings'], 'bo')\n",
        "plt.xlabel('Runs')\n",
        "plt.ylabel('Innings')\n",
        "plt.title('Runs vs Innings')\n",
        "plt.scatter(data['Runs'] ,data['Innings'])\n",
        "plt.bar(data['Runs'] ,data['Innings'])\n",
        "plt.pie(data['Runs'] ,data['Innings'])\n",
        "plt.show()\n"
      ],
      "metadata": {
        "id": "6ukzGq1vW5oL",
        "outputId": "1dca1e2a-1f64-486a-9111-abd2ba651308",
        "colab": {
          "base_uri": "https://localhost:8080/",
          "height": 990
        }
      },
      "execution_count": null,
      "outputs": [
        {
          "output_type": "display_data",
          "data": {
            "text/plain": [
              "<Figure size 640x480 with 1 Axes>"
            ],
            "image/png": "[encoded data removed]"
          },
          "metadata": {}
        }
      ]
    },
    {
      "cell_type": "code",
      "source": [
        "import pandas\n",
        "\n",
        "df = {\n",
        "  'cars': [\"BMW\", \"Volvo\", \"Ford\"],\n",
        "  'passings': [3, 7, 2]\n",
        "}\n",
        "\n",
        "df1 = pandas.DataFrame(df)\n",
        "\n",
        "print(df1)"
      ],
      "metadata": {
        "colab": {
          "base_uri": "https://localhost:8080/"
        },
        "id": "6do3dCQzz-Wc",
        "outputId": "416b089d-aba2-4aa4-dfce-efe1af468e27"
      },
      "execution_count": null,
      "outputs": [
        {
          "output_type": "stream",
          "name": "stdout",
          "text": [
            "    cars  passings\n",
            "0    BMW         3\n",
            "1  Volvo         7\n",
            "2   Ford         2\n"
          ]
        }
      ]
    },
    {
      "cell_type": "code",
      "source": [
        "import pandas as pd\n",
        "\n",
        "a = [1, 7, 2]\n",
        "df = pd.Series(a)\n",
        "\n",
        "print(df)"
      ],
      "metadata": {
        "colab": {
          "base_uri": "https://localhost:8080/"
        },
        "id": "ZtsJdeT20m1q",
        "outputId": "784e9a68-a2e9-49ee-9f86-eef6785cfb1f"
      },
      "execution_count": null,
      "outputs": [
        {
          "output_type": "stream",
          "name": "stdout",
          "text": [
            "0    1\n",
            "1    7\n",
            "2    2\n",
            "dtype: int64\n"
          ]
        }
      ]
    },
    {
      "cell_type": "code",
      "source": [
        "import pandas as pd\n",
        "\n",
        "calories = {\"day1\": 320, \"day2\": 380, \"day3\": 390}\n",
        "\n",
        "df1 = pd.Series(calories)\n",
        "\n",
        "print(df1)"
      ],
      "metadata": {
        "colab": {
          "base_uri": "https://localhost:8080/"
        },
        "id": "9HAzXotf0up4",
        "outputId": "2af78e9e-85e7-4e3d-f914-7e729cb24b63"
      },
      "execution_count": null,
      "outputs": [
        {
          "output_type": "stream",
          "name": "stdout",
          "text": [
            "day1    320\n",
            "day2    380\n",
            "day3    390\n",
            "dtype: int64\n"
          ]
        }
      ]
    },
    {
      "cell_type": "code",
      "source": [
        "import pandas as pd\n",
        "df =pd.read_excel(r'/content/drive/MyDrive/employee.xlsx')\n",
        "print(df)\n",
        "df['Age'].mean()\n",
        "# df1 = pd.read_excel(r'/content/drive/MyDrive/salary.xlsx')\n",
        "# print(df1)"
      ],
      "metadata": {
        "colab": {
          "base_uri": "https://localhost:8080/"
        },
        "id": "x6Y4_4zdyz_t",
        "outputId": "49b91e25-230e-4380-e22d-32d5ed8d8c6e"
      },
      "execution_count": null,
      "outputs": [
        {
          "output_type": "stream",
          "name": "stdout",
          "text": [
            "    Sr no.  Employee ID          Employee Name Date of birth  Age\n",
            "0        1         1001             Baki Hanma    1999-05-11   24\n",
            "1        2         1002           Yujiro Hanma    2004-02-29   18\n",
            "2        3         1003        Monkey D. Luffy    1976-05-12   47\n",
            "3        4         1004         Monkey D. Garp    1983-07-15   40\n",
            "4        5         1005          Trafalgar Law    1999-10-26   24\n",
            "5        6         1006             Alva Morte    2002-09-21   21\n",
            "6        7         1007       Miyamoto Musashi    1998-07-16   25\n",
            "7        8         1008         Shinmen Takezo    1989-07-18   34\n",
            "8        9         1009  Christopher Fernandez    2000-12-31   23\n",
            "9       10         1010            Virat Kohli    1994-06-08   29\n",
            "10      11         1011           Rohit Sharma    1968-07-03   55\n",
            "11      12         1012              John Wick    2004-02-20   18\n",
            "12      13         1013      Robert Downey Jr.    2004-06-30   18\n",
            "13      14         1014        Christ McCarthy    1998-11-26   25\n",
            "14      15         1015           Jesus Christ    1974-08-15   49\n",
            "15      16         1016             Doflamingo    1997-06-26   26\n",
            "16      17         1017            Bruce Wayne    1996-07-10   27\n",
            "17      18         1018            Andrew Tate    1968-08-11   55\n",
            "18      19         1019          Elon The Musk    1993-10-09   30\n",
            "19      20         1020             Robin Hood    1997-07-07   26\n"
          ]
        },
        {
          "output_type": "execute_result",
          "data": {
            "text/plain": [
              "30.7"
            ]
          },
          "metadata": {},
          "execution_count": 1
        }
      ]
    }
  ]
}